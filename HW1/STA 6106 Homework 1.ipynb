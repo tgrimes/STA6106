{
 "cells": [
  {
   "cell_type": "markdown",
   "metadata": {},
   "source": [
    "<div align=\"right\">\n",
    "Tyler Grimes <br>\n",
    "Jan. 19, 2016\n",
    "</div>\n",
    "\n",
    "Homework 1 - Ch. 3 #2, 5, 6\n",
    "\n",
    "<hr>\n",
    "> 2.) If $x_0 = 3$ and $x_n$ = ($5x_{n-1}$ + 7) mod 200, find $x_1$,...,$x_{10}$.  "
   ]
  },
  {
   "cell_type": "code",
   "execution_count": 7,
   "metadata": {
    "collapsed": false
   },
   "outputs": [
    {
     "name": "stdout",
     "output_type": "stream",
     "text": [
      "x_0 = 3\n",
      "x_1 = 22\n",
      "x_2 = 117\n",
      "x_3 = 192\n",
      "x_4 = 167\n",
      "x_5 = 42\n",
      "x_6 = 17\n",
      "x_7 = 92\n",
      "x_8 = 67\n",
      "x_9 = 142\n",
      "x_10 = 117\n"
     ]
    }
   ],
   "source": [
    "x = 3\n",
    "print \"x_0 = 3\"\n",
    "for i in range(1, 11):\n",
    "    x = (5 * x + 7) % 200\n",
    "    print \"x_%s = %s\" % (i, x)"
   ]
  },
  {
   "cell_type": "markdown",
   "metadata": {},
   "source": [
    "<p style=\"page-break-after: always\"></p>"
   ]
  },
  {
   "cell_type": "markdown",
   "metadata": {},
   "source": [
    "\n",
    "<hr>\n",
    "> 5.) $\\int_{-2}^{2} \\exp(x + x^2) dx$ \n",
    "\n",
    "##### Derivation:  \n",
    "\n",
    "Let $Y \\sim Unif(0,1)$, and let $u = \\frac{x + 2}{4}$. Then,\n",
    "$x = 4u - 2$ and $dx = 4du$. By substitution,\n",
    "\n",
    "$$\\begin{aligned}\n",
    "\\int_{-2}^{2} \\exp(x + x^2) dx &= \\int_{0}^{1} \\exp((4u-2) + (4u-2)^2) 4 du,\\\\\n",
    "&= \\int_{0}^{1} 4 \\exp(16u^2 -12u + 2) f_Y(u) du, \\\\\n",
    "&= E_Y(g(u)),\n",
    "\\end{aligned}$$\n",
    "\n",
    "where $g(u) = 4 \\exp(16u^2 -12u + 2)$.  \n",
    "  \n",
    "  \n",
    "##### Algorithm:\n",
    "1. Generate y from Unif(0,1).\n",
    "2. Evaluate $x_i = g(y)$.\n",
    "3. Repeat 1 and 2 for $n = 10^6$ iterations.\n",
    "4. Evaluate $\\frac{\\sum_{i=1}^n x_i}{n}$.  \n",
    "  \n",
    "  \n",
    "##### Simulation:\n",
    "Note, the same algorithm will be used in #5 and #6 of this assignment and is implemented by the function simulation(), as shown in the following code block. The program is written in Python (v 2.7.11)."
   ]
  },
  {
   "cell_type": "code",
   "execution_count": 7,
   "metadata": {
    "collapsed": true
   },
   "outputs": [],
   "source": [
    "import math\n",
    "import random as ran\n",
    "\n",
    "def simulation(g, seed, n = 1000000):\n",
    "    sum = 0\n",
    "    ran.seed(seed)\n",
    "    \n",
    "    for i in xrange(n):\n",
    "        y = ran.uniform(0, 1)\n",
    "        xi = g(y)\n",
    "        sum = sum + xi\n",
    "        \n",
    "    return sum/n"
   ]
  },
  {
   "cell_type": "code",
   "execution_count": 11,
   "metadata": {
    "collapsed": false
   },
   "outputs": [
    {
     "name": "stdout",
     "output_type": "stream",
     "text": [
      "CPU times: user 897 ms, sys: 27 ms, total: 924 ms\n",
      "Wall time: 904 ms\n"
     ]
    },
    {
     "data": {
      "text/plain": [
       "93.41366624385321"
      ]
     },
     "execution_count": 11,
     "metadata": {},
     "output_type": "execute_result"
    }
   ],
   "source": [
    "def g(x):\n",
    "    return 4*math.exp(16*(x**2) - 12*x + 2)\n",
    "\n",
    "%time simulation(g, seed = 5)"
   ]
  },
  {
   "cell_type": "markdown",
   "metadata": {},
   "source": [
    "The simulation yields the approximation $\\int_{-2}^{2} \\exp(x + x^2) dx \\approx 93.41$  \n",
    "  \n",
    "  \n",
    "##### Analytical result:\n",
    "There is no closed-form solution to $\\int_{-2}^{2} \\exp(x + x^2) dx$.\n",
    "\n",
    "\n",
    "\n"
   ]
  },
  {
   "cell_type": "markdown",
   "metadata": {},
   "source": [
    "<p style:\"page-break-before: always\"></p>"
   ]
  },
  {
   "cell_type": "markdown",
   "metadata": {},
   "source": [
    "<hr>\n",
    "> 6.) $\\int_{0}^{\\infty} x(1+x^2)^{-2} dx$ \n",
    "\n",
    "##### Derivation:  \n",
    "\n",
    "Let $Y \\sim Unif(0,1)$, and let $u = \\frac{1}{x+1}$. Then,\n",
    "$x = \\frac{1-u}{u}$ and $dx = -\\frac{1}{u^2} du$. By substitution,\n",
    "\n",
    "$$\\begin{aligned}\n",
    "\\int_{0}^{\\infty} x(1+x^2)^{-2} dx &= \\int_{1}^{0} \\left( \\frac{1-u}{u} \\right) \\left(1+ \\left( \\frac{1-u}{u} \\right)^2 \\right)^{-2} \\left( -\\frac{1}{u^2} \\right) du,\\\\\n",
    "&= \\int_{0}^{1} \\left( \\frac{1-u}{u^3} \\right) \\left(\\frac{u^2}{u^2} + \\left( \\frac{1-2u+u^2}{u^2}\\right) \\right)^{-2} du \\\\\n",
    "&= \\int_{0}^{1} \\left( \\frac{1-u}{u^3} \\right) \\left( \\frac{u^4}{(1-2u+2u^2)^2} \\right) du \\\\\n",
    "&= \\int_{0}^{1} \\left( \\frac{(1-u)u}{(1-2u+2u^2)^2} \\right) du \\\\\n",
    "&= \\int_{0}^{1} \\left( \\frac{(1-u)u}{(1-2u+2u^2)^2} \\right) f_Y(u) du \\\\\n",
    "&= E_Y(g(u)),\n",
    "\\end{aligned}$$\n",
    "\n",
    "where $g(u) = \\left( \\frac{(1-u)u}{(1-2u+2u^2)^2}\\right)$.  \n",
    "  \n",
    "  \n",
    "##### Algorithm:\n",
    "1. Generate y from Unif(0,1).\n",
    "2. Evaluate $x_i = g(y)$.\n",
    "3. Repeat 1 and 2 for $n = 10^6$ iterations.\n",
    "4. Evaluate $\\frac{\\sum_{i=1}^n x_i}{n}$.  \n",
    "  \n",
    "  \n",
    "##### Simulation:"
   ]
  },
  {
   "cell_type": "code",
   "execution_count": 10,
   "metadata": {
    "collapsed": false
   },
   "outputs": [
    {
     "name": "stdout",
     "output_type": "stream",
     "text": [
      "CPU times: user 883 ms, sys: 41.2 ms, total: 924 ms\n",
      "Wall time: 896 ms\n"
     ]
    },
    {
     "data": {
      "text/plain": [
       "0.500861713250707"
      ]
     },
     "execution_count": 10,
     "metadata": {},
     "output_type": "execute_result"
    }
   ],
   "source": [
    "def g(x):\n",
    "    return ((1 - x)*(x)) / ((1 - 2*x + 2*x*x)**2)\n",
    "\n",
    "%time simulation(g, seed = 6)"
   ]
  },
  {
   "cell_type": "markdown",
   "metadata": {},
   "source": [
    "The simulation yields the approximation $\\int_{0}^{\\infty} x(1+x^2)^{-2} dx \\approx 0.5009$  \n",
    "  \n",
    "##### Analytical result:\n",
    "\n",
    "Let $u = 1+x^2$. Then $du = 2xdx$, and\n",
    "$$\\begin{aligned}\n",
    "\\int_{0}^{\\infty} x(1+x^2)^{-2} dx &= \\int_{1}^{\\infty} u^{-2} \\frac{du}{2} \\\\\n",
    "&= \\frac{1}{2} \\left[ -u^{-1} \\right]_1^{\\infty} \\\\\n",
    "&= \\frac{1}{2} \\left[ 0-(-1) \\right] \\\\\n",
    "&= \\frac{1}{2}\n",
    "\\end{aligned}$$\n",
    "  \n",
    "Hence, our approximation agrees with the exact result to three decimals."
   ]
  }
 ],
 "metadata": {
  "kernelspec": {
   "display_name": "Python 2",
   "language": "python",
   "name": "python2"
  },
  "language_info": {
   "codemirror_mode": {
    "name": "ipython",
    "version": 2
   },
   "file_extension": ".py",
   "mimetype": "text/x-python",
   "name": "python",
   "nbconvert_exporter": "python",
   "pygments_lexer": "ipython2",
   "version": "2.7.11"
  }
 },
 "nbformat": 4,
 "nbformat_minor": 0
}
