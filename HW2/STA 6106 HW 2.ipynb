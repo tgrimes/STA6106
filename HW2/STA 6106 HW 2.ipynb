{
 "cells": [
  {
   "cell_type": "markdown",
   "metadata": {},
   "source": [
    "<div align=\"right\"> Tyler Grimes <br> \n",
    "Jan. 21 2016  \n",
    "</div>\n",
    "MAC 6106 Homework 2, Ch. 3 #10\n",
    "<hr>\n",
    "> ##### 10. Use simulation to approximate $Cov(U,e^U)$, where $U$ is uniform on $(0, 1)$. Compare your approximation with the exact answer.  \n",
    "  \n",
    "##### Derivation:  \n",
    "By definiton of covariance, we have\n",
    "\n",
    "$$\n",
    "\\begin{aligned}\n",
    "cov(U, e^U) &= E((U - E(U))(e^U - E(e^U)) \\\\\n",
    "&= E(Ue^U) - E(U)E(e^U) \\\\\n",
    "\\end{aligned}\n",
    "$$\n",
    "\n",
    "We know how to approximate the expected values by simulation, so we can use those to approximate the covariance.\n",
    "\n",
    "##### Algorithm:  \n",
    "1. Generate $y_i$ from Uniform(0,1).\n",
    "2. Evaluate $exp(y_i)$ and $yexp(y_i)$.\n",
    "3. Repeat 1 and 2 for $n = 10^6$ iterations.\n",
    "4. Evaluate $\\frac{\\sum_{i=1}^n y_iexp(y_i)}{n} - \\frac{\\sum_{i=1}^n y_i}{n} \\frac{\\sum_{i=1}^n exp(y_i)}{n}$."
   ]
  },
  {
   "cell_type": "code",
   "execution_count": 3,
   "metadata": {
    "collapsed": false
   },
   "outputs": [
    {
     "data": {
      "text/plain": [
       "0.14078343923735215"
      ]
     },
     "execution_count": 3,
     "metadata": {},
     "output_type": "execute_result"
    }
   ],
   "source": [
    "import math\n",
    "import random as ran\n",
    "\n",
    "def simulation(seed, n = 1000000): \n",
    "    sum1 = 0; sum2 = 0; sum3 = 0\n",
    "    ran.seed(seed)\n",
    "    for i in xrange(n):\n",
    "        y = ran.uniform(0, 1)\n",
    "        sum1 = sum1 + y\n",
    "        sum2 = sum2 + math.exp(y)\n",
    "        sum3 = sum3 + y*math.exp(y)\n",
    "    return (sum3)/n - (sum1/n)*(sum2/n)\n",
    "\n",
    "simulation(seed = 10)"
   ]
  },
  {
   "cell_type": "markdown",
   "metadata": {},
   "source": [
    "The simulation yields the approximation $cov(U, e^U) \\approx 0.1408$\n",
    "\n",
    "##### Analytical result:  \n",
    "  \n",
    "If $U \\sim Unif(0, 1)$, then\n",
    "\n",
    "$$\n",
    "\\begin{aligned}\n",
    "E(U) &= \\int_0^1 u du = \\frac{1}{2} \\\\\n",
    "E(e^U) &= \\int_0^1 e^u du = e - 1 \\\\\n",
    "E(Ue^U) &= \\int_0^1 ue^u du \\\\\n",
    "&= \\left[ ue^u \\right]_0^1 - \\int_0^1 e^u du \\\\\n",
    "&= e - (e - 1) \\\\\n",
    "&= 1\n",
    "\\end{aligned}\n",
    "$$\n",
    "\n",
    "So, we have\n",
    "$$\n",
    "Cov(U, e^U) = E(Ue^U) - E(U)E(e^U) = 1 - (e-1) \\left( \\frac{1}{2} \\right) = \\frac{3-e}{2} \\approx 0.1408591\n",
    "$$.\n",
    "\n",
    "The exact result agrees with the simulated result to three decimal places. "
   ]
  }
 ],
 "metadata": {
  "kernelspec": {
   "display_name": "Python 2",
   "language": "python",
   "name": "python2"
  },
  "language_info": {
   "codemirror_mode": {
    "name": "ipython",
    "version": 2
   },
   "file_extension": ".py",
   "mimetype": "text/x-python",
   "name": "python",
   "nbconvert_exporter": "python",
   "pygments_lexer": "ipython2",
   "version": "2.7.11"
  }
 },
 "nbformat": 4,
 "nbformat_minor": 0
}
